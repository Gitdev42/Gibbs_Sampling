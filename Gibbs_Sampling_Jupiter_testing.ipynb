{
 "cells": [
  {
   "cell_type": "markdown",
   "metadata": {},
   "source": [
    "Import all nessesary libarys"
   ]
  },
  {
   "cell_type": "code",
   "execution_count": 19,
   "metadata": {},
   "outputs": [],
   "source": [
    "import numpy as np\n",
    "#import cupy as np\n",
    "import time\n",
    "import matplotlib.pyplot as plt\n",
    "from scipy.stats import binom\n",
    "%matplotlib inline"
   ]
  },
  {
   "cell_type": "markdown",
   "metadata": {},
   "source": [
    "Definitions of all interchangeable variables of the script"
   ]
  },
  {
   "cell_type": "code",
   "execution_count": 20,
   "metadata": {
    "pycharm": {
     "name": "#%%\n"
    }
   },
   "outputs": [],
   "source": [
    "# Definitions\n",
    "\n",
    "# Matrix size\n",
    "\n",
    "matrix_width = 50\n",
    "matrix_height = 50\n",
    "\n",
    "# Grayscale value range\n",
    "\n",
    "gray_value_min = 0\n",
    "gray_value_max = 2\n",
    "\n",
    "# values --> used for würfeln.. has to be merged with grayscale_value_range\n",
    "\n",
    "#values = [-1,1]\n",
    "\n",
    "# dampening factor\n",
    "\n",
    "beta = 2\n",
    "\n",
    "#itterations\n",
    "\n",
    "itteration = 10\n",
    "\n",
    "# definition Mask\n",
    "\n",
    "mask = np.array([\n",
    "        [-0.81,0,0,0,-0.81],\n",
    "        [0,0.91,0.4,0.91,0],\n",
    "        [0,0.4,0,0.4,0],\n",
    "        [0,0.91,0.4,0.91,0],\n",
    "        [-0.81,0,0,0,-0.81]\n",
    "       ])"
   ]
  },
  {
   "cell_type": "markdown",
   "metadata": {},
   "source": [
    "applys the mask to the selected data point of the matrix"
   ]
  },
  {
   "cell_type": "code",
   "execution_count": 48,
   "metadata": {},
   "outputs": [],
   "source": [
    "def apply_mask(height,width, matrix, mask):\n",
    "    # create a copy of the matrix in the area of the mask\n",
    "    matrix_slice = matrix.take(range((height - (mask.shape[0]-1)//2),(height + (mask.shape[0]+1)//2)),mode='wrap', axis=0).take(range((width - (mask.shape[1]-1)//2),(width + (mask.shape[1]+1)//2)),mode='wrap',axis=1)\n",
    "    #print (matrix_slice)\n",
    "    # calculate the probability of a data point to flip\n",
    "    xk = np.arange(gray_value_max)\n",
    "    print(xk)\n",
    "    pk = [0,0]\n",
    "    #print (matrix[height][width])\n",
    "    #for i in xk:\n",
    "    pk[matrix[height][width]]= 1 / (1 + np.exp(-beta * np.sum(mask * np.absolute(matrix[height][width] - matrix_slice))))\n",
    "    pk = np.where(pk == 0, 1-pk[matrix[height][width]], pk)\n",
    "    print(pk)\n",
    "    #use np.random.choice instead\n",
    "    np.random.choice(a= xk, p= pk)\n",
    "    #if binom.rvs(1,p=probability): \n",
    "     #   matrix[height][width] = -matrix[height][width]\n",
    "    return matrix\n",
    "    "
   ]
  },
  {
   "cell_type": "markdown",
   "metadata": {},
   "source": [
    "generate Matrix of white noise"
   ]
  },
  {
   "cell_type": "code",
   "execution_count": 49,
   "metadata": {
    "pycharm": {
     "name": "#%%\n"
    }
   },
   "outputs": [
    {
     "name": "stdout",
     "output_type": "stream",
     "text": [
      "CPU times: user 33 ms, sys: 833 µs, total: 33.8 ms\n",
      "Wall time: 28.6 ms\n"
     ]
    },
    {
     "data": {
      "text/plain": [
       "array([[0, 1, 1, ..., 1, 0, 1],\n",
       "       [0, 1, 1, ..., 1, 1, 0],\n",
       "       [1, 0, 0, ..., 1, 1, 1],\n",
       "       ...,\n",
       "       [1, 1, 0, ..., 0, 0, 1],\n",
       "       [1, 1, 1, ..., 0, 0, 1],\n",
       "       [1, 0, 0, ..., 0, 0, 0]])"
      ]
     },
     "execution_count": 49,
     "metadata": {},
     "output_type": "execute_result"
    },
    {
     "data": {
      "image/png": "[encoded data removed]",
      "text/plain": [
       "<Figure size 432x288 with 1 Axes>"
      ]
     },
     "metadata": {
      "needs_background": "light"
     },
     "output_type": "display_data"
    }
   ],
   "source": [
    "%%time\n",
    "# generate Matrix of white noise\n",
    "matrix = np.random.randint(gray_value_min,gray_value_max,size=(matrix_height,matrix_width))\n",
    "# replaces 0 in the matrix with -1s (nessesary for a few masks)\n",
    "#matrix = np.where(matrix == 0, -1, matrix)\n",
    "# Print matrix as Image\n",
    "plt.imshow(matrix,cmap='gray',vmin=gray_value_min, vmax=gray_value_max-1)\n",
    "# Return (and print) matrix\n",
    "matrix"
   ]
  },
  {
   "cell_type": "code",
   "execution_count": 50,
   "metadata": {},
   "outputs": [],
   "source": [
    "matrix = np.load('matrix.npy')"
   ]
  },
  {
   "cell_type": "markdown",
   "metadata": {},
   "source": [
    "apply mask to whole matrix"
   ]
  },
  {
   "cell_type": "code",
   "execution_count": 51,
   "metadata": {
    "pycharm": {
     "name": "#%%\n"
    }
   },
   "outputs": [
    {
     "name": "stdout",
     "output_type": "stream",
     "text": [
      "[0 1]\n",
      "[0.72710822 0.        ]\n"
     ]
    },
    {
     "ename": "ValueError",
     "evalue": "probabilities do not sum to 1",
     "output_type": "error",
     "traceback": [
      "\u001b[0;31m---------------------------------------------------------------------------\u001b[0m",
      "\u001b[0;31mValueError\u001b[0m                                Traceback (most recent call last)",
      "\u001b[0;32m<timed exec>\u001b[0m in \u001b[0;36m<module>\u001b[0;34m\u001b[0m\n",
      "\u001b[0;32m/tmp/ipykernel_67179/115657037.py\u001b[0m in \u001b[0;36mapply_mask\u001b[0;34m(height, width, matrix, mask)\u001b[0m\n\u001b[1;32m     13\u001b[0m     \u001b[0mprint\u001b[0m\u001b[0;34m(\u001b[0m\u001b[0mpk\u001b[0m\u001b[0;34m)\u001b[0m\u001b[0;34m\u001b[0m\u001b[0;34m\u001b[0m\u001b[0m\n\u001b[1;32m     14\u001b[0m     \u001b[0;31m#use np.random.choice instead\u001b[0m\u001b[0;34m\u001b[0m\u001b[0;34m\u001b[0m\u001b[0m\n\u001b[0;32m---> 15\u001b[0;31m     \u001b[0mnp\u001b[0m\u001b[0;34m.\u001b[0m\u001b[0mrandom\u001b[0m\u001b[0;34m.\u001b[0m\u001b[0mchoice\u001b[0m\u001b[0;34m(\u001b[0m\u001b[0ma\u001b[0m\u001b[0;34m=\u001b[0m \u001b[0mxk\u001b[0m\u001b[0;34m,\u001b[0m \u001b[0mp\u001b[0m\u001b[0;34m=\u001b[0m \u001b[0mpk\u001b[0m\u001b[0;34m)\u001b[0m\u001b[0;34m\u001b[0m\u001b[0;34m\u001b[0m\u001b[0m\n\u001b[0m\u001b[1;32m     16\u001b[0m     \u001b[0;31m#if binom.rvs(1,p=probability):\u001b[0m\u001b[0;34m\u001b[0m\u001b[0;34m\u001b[0m\u001b[0m\n\u001b[1;32m     17\u001b[0m      \u001b[0;31m#   matrix[height][width] = -matrix[height][width]\u001b[0m\u001b[0;34m\u001b[0m\u001b[0;34m\u001b[0m\u001b[0m\n",
      "\u001b[0;32mmtrand.pyx\u001b[0m in \u001b[0;36mnumpy.random.mtrand.RandomState.choice\u001b[0;34m()\u001b[0m\n",
      "\u001b[0;31mValueError\u001b[0m: probabilities do not sum to 1"
     ]
    }
   ],
   "source": [
    "%%time\n",
    "# itterate thrue the whole matrix and appy mask\n",
    "counter = 0\n",
    "np.random.seed(0)\n",
    "while counter < itteration:\n",
    "    counter += 1\n",
    "    for h in range(0, matrix.shape[0]):\n",
    "        for w in range(0, matrix.shape[1]):\n",
    "            matrix = apply_mask(h, w, matrix, mask) #faster with inplace ?"
   ]
  },
  {
   "cell_type": "markdown",
   "metadata": {},
   "source": [
    "plot new matrix"
   ]
  },
  {
   "cell_type": "code",
   "execution_count": 25,
   "metadata": {},
   "outputs": [
    {
     "data": {
      "text/plain": [
       "<matplotlib.image.AxesImage at 0x7f7f721d9040>"
      ]
     },
     "execution_count": 25,
     "metadata": {},
     "output_type": "execute_result"
    },
    {
     "data": {
      "image/png": "[encoded data removed]",
      "text/plain": [
       "<Figure size 432x288 with 1 Axes>"
      ]
     },
     "metadata": {
      "needs_background": "light"
     },
     "output_type": "display_data"
    }
   ],
   "source": [
    "plt.imshow(matrix,cmap='gray',vmin=gray_value_min, vmax=gray_value_max-1)"
   ]
  },
  {
   "cell_type": "markdown",
   "metadata": {},
   "source": [
    "safe new matrix to file"
   ]
  },
  {
   "cell_type": "code",
   "execution_count": 35,
   "metadata": {
    "pycharm": {
     "is_executing": true
    }
   },
   "outputs": [],
   "source": [
    "np.save(\"matrix\", matrix)"
   ]
  },
  {
   "cell_type": "markdown",
   "metadata": {},
   "source": [
    "Fragen für Mittwoch:\n",
    "Formel (was liegt mit in der summe? O.o)\n",
    "        e^-2 abhängigkeit zu anz graustufen\n",
    "        mehrere pixel zeitgleich angucken (maske gerade anzahl (8x8 oder so mit 4 mittleren pixeln)\n",
    "        exponenten ersetzen.. wie genau soll ich das umsetzen? O.o\n",
    "        und wo genau brauch ich fakultäten"
   ]
  }
 ],
 "metadata": {
  "kernelspec": {
   "display_name": "Python 3 (ipykernel)",
   "language": "python",
   "name": "python3"
  },
  "language_info": {
   "codemirror_mode": {
    "name": "ipython",
    "version": 3
   },
   "file_extension": ".py",
   "mimetype": "text/x-python",
   "name": "python",
   "nbconvert_exporter": "python",
   "pygments_lexer": "ipython3",
   "version": "3.9.7"
  }
 },
 "nbformat": 4,
 "nbformat_minor": 1
}
