{
 "cells": [
  {
   "cell_type": "markdown",
   "metadata": {},
   "source": [
    "Import all nessesary libarys"
   ]
  },
  {
   "cell_type": "code",
   "execution_count": 1,
   "metadata": {},
   "outputs": [],
   "source": [
    "import numpy as np\n",
    "#import cupy as np\n",
    "import matplotlib.pyplot as plt\n",
    "import scipy.special\n",
    "from scipy import stats\n",
    "%matplotlib inline\n",
    "from ipywidgets import IntProgress\n",
    "from IPython.display import display\n",
    "import time"
   ]
  },
  {
   "cell_type": "markdown",
   "metadata": {},
   "source": [
    "Definitions of all interchangeable variables of the script"
   ]
  },
  {
   "cell_type": "code",
   "execution_count": 2,
   "metadata": {
    "pycharm": {
     "name": "#%%\n"
    }
   },
   "outputs": [],
   "source": [
    "# Definitions\n",
    "\n",
    "# Matrix size\n",
    "\n",
    "matrix_width = 50\n",
    "matrix_height = 50\n",
    "\n",
    "# Grayscale value range\n",
    "\n",
    "gray_value_min = 0\n",
    "gray_value_max = 32\n",
    "\n",
    "\n",
    "# dampening factor\n",
    "\n",
    "beta = 1\n",
    "\n",
    "#itterations\n",
    "\n",
    "itteration = 10\n",
    "\n",
    "# definition Mask\n",
    "\n",
    "mask = np.array([\n",
    "        [-0.81,0,0,0,-0.81],\n",
    "        [0,0.91,0.4,0.91,0],\n",
    "        [0,0.4,0,0.4,0],\n",
    "        [0,0.91,0.4,0.91,0],\n",
    "        [-0.81,0,0,0,-0.81]\n",
    "       ])\n",
    "\n",
    "# definition Energyfunction\n",
    "\n",
    "def energy(func, vst, xs, xt):\n",
    "    #switch (func):\n",
    "        #case orgf:\n",
    "            #return np.sum(vst * (xs - xt))\n",
    "        #case l1:\n",
    "            return np.sum(vst * np.absolute(xs - xt))\n",
    "            #check formula in the book  \n",
    "        #case l2:\n",
    "            #return np.sum(vst * (xs - xt)**2 )"
   ]
  },
  {
   "cell_type": "markdown",
   "metadata": {},
   "source": [
    "applys the mask to the selected data point of the matrix"
   ]
  },
  {
   "cell_type": "code",
   "execution_count": 3,
   "metadata": {},
   "outputs": [],
   "source": [
    "def apply_mask(height,width, matrix, mask):\n",
    "    # create a copy of the matrix in the area of the mask\n",
    "    matrix_slice = matrix.take(range((height - (mask.shape[0]-1)//2),(height + (mask.shape[0]+1)//2)),mode='wrap', axis=0).take(range((width - (mask.shape[1]-1)//2),(width + (mask.shape[1]+1)//2)),mode='wrap',axis=1)\n",
    "    # calculate the probability of a data point to flip\n",
    "    \n",
    "    xk = np.arange(gray_value_max)\n",
    "    pk = []\n",
    "    denominator = 1\n",
    "    for i in xk :\n",
    "        pk.append((scipy.special.binom(gray_value_max, i)* np.exp(-beta*energy('l1', mask, matrix[height][width], matrix_slice))) / denominator )\n",
    "    # würfeln welchen wert der datenpunkt hat (?good englisch expression?)\n",
    "    matrix[height][width] = np.random.choice(a= xk, p= pk/np.sum(pk))\n",
    "    \n",
    "    return matrix\n",
    "    "
   ]
  },
  {
   "cell_type": "markdown",
   "metadata": {},
   "source": [
    "generate Matrix of white noise"
   ]
  },
  {
   "cell_type": "code",
   "execution_count": 4,
   "metadata": {
    "pycharm": {
     "name": "#%%\n"
    }
   },
   "outputs": [
    {
     "name": "stdout",
     "output_type": "stream",
     "text": [
      "CPU times: user 20 ms, sys: 123 µs, total: 20.2 ms\n",
      "Wall time: 19.4 ms\n"
     ]
    },
    {
     "data": {
      "text/plain": [
       "array([[11, 24,  0, ...,  9,  3,  5],\n",
       "       [ 5, 26, 16, ...,  3, 17, 19],\n",
       "       [14, 19, 31, ..., 15, 11,  4],\n",
       "       ...,\n",
       "       [ 7,  1,  9, ...,  5,  9, 20],\n",
       "       [12, 31, 19, ..., 15, 22, 21],\n",
       "       [21, 31, 27, ..., 26,  5, 11]])"
      ]
     },
     "execution_count": 4,
     "metadata": {},
     "output_type": "execute_result"
    },
    {
     "data": {
      "image/png": "[encoded data removed]",
      "text/plain": [
       "<Figure size 432x288 with 1 Axes>"
      ]
     },
     "metadata": {
      "needs_background": "light"
     },
     "output_type": "display_data"
    }
   ],
   "source": [
    "%%time\n",
    "# generate Matrix of white noise\n",
    "matrix = np.random.randint(gray_value_min,gray_value_max,size=(matrix_height,matrix_width))\n",
    "# replaces 0 in the matrix with -1s (nessesary for a few masks)\n",
    "# matrix = np.where(matrix == 0, -1, matrix)\n",
    "# Print matrix as Image\n",
    "plt.imshow(matrix,cmap='gray',vmin=gray_value_min, vmax=gray_value_max-1)\n",
    "# Return (and print) matrix\n",
    "matrix"
   ]
  },
  {
   "cell_type": "markdown",
   "metadata": {},
   "source": [
    "apply mask to whole matrix"
   ]
  },
  {
   "cell_type": "code",
   "execution_count": 5,
   "metadata": {
    "pycharm": {
     "is_executing": true,
     "name": "#%%\n"
    }
   },
   "outputs": [
    {
     "data": {
      "application/vnd.jupyter.widget-view+json": {
       "model_id": "10af404de96c46a19150dd6ccdaf59a8",
       "version_major": 2,
       "version_minor": 0
      },
      "text/plain": [
       "IntProgress(value=0, max=10)"
      ]
     },
     "metadata": {},
     "output_type": "display_data"
    },
    {
     "name": "stdout",
     "output_type": "stream",
     "text": [
      "CPU times: user 9.62 s, sys: 22.1 ms, total: 9.64 s\n",
      "Wall time: 9.64 s\n"
     ]
    }
   ],
   "source": [
    "%%time\n",
    "# itterate thrue the whole matrix and appy mask\n",
    "\n",
    "f = IntProgress(min=0, max=itteration) # instantiate the bar\n",
    "display(f) # display the bar\n",
    "counter = 0\n",
    "while counter < itteration:\n",
    "    f.value += 1 # signal to increment the progress bar\n",
    "    counter += 1\n",
    "    for h in range(0, matrix.shape[0]):\n",
    "        for w in range(0, matrix.shape[1]):\n",
    "            matrix = apply_mask(h,w,matrix,mask) #faster with inplace ?\n",
    "        "
   ]
  },
  {
   "cell_type": "markdown",
   "metadata": {},
   "source": [
    "plot new matrix"
   ]
  },
  {
   "cell_type": "code",
   "execution_count": 6,
   "metadata": {
    "pycharm": {
     "is_executing": true
    }
   },
   "outputs": [
    {
     "data": {
      "text/plain": [
       "<matplotlib.image.AxesImage at 0x7efbf516e320>"
      ]
     },
     "execution_count": 6,
     "metadata": {},
     "output_type": "execute_result"
    },
    {
     "data": {
      "image/png": "[encoded data removed]",
      "text/plain": [
       "<Figure size 432x288 with 1 Axes>"
      ]
     },
     "metadata": {
      "needs_background": "light"
     },
     "output_type": "display_data"
    }
   ],
   "source": [
    "plt.imshow(matrix,cmap='gray',vmin=gray_value_min, vmax=gray_value_max-1)"
   ]
  },
  {
   "cell_type": "markdown",
   "metadata": {},
   "source": [
    "safe new matrix to file"
   ]
  },
  {
   "cell_type": "code",
   "execution_count": 7,
   "metadata": {
    "pycharm": {
     "is_executing": true
    }
   },
   "outputs": [],
   "source": [
    "np.save(\"matrix\", matrix)"
   ]
  },
  {
   "cell_type": "markdown",
   "metadata": {},
   "source": [
    "Fragen für Mittwoch:\n",
    "Formel (was liegt mit in der summe? O.o)\n",
    "        e^-2 abhängigkeit zu anz graustufen\n",
    "        mehrere pixel zeitgleich angucken (maske gerade anzahl (8x8 oder so mit 4 mittleren pixeln)\n",
    "        exponenten ersetzen.. wie genau soll ich das umsetzen? O.o\n",
    "        und wo genau brauch ich fakultäten"
   ]
  }
 ],
 "metadata": {
  "kernelspec": {
   "display_name": "Python 3 (ipykernel)",
   "language": "python",
   "name": "python3"
  },
  "language_info": {
   "codemirror_mode": {
    "name": "ipython",
    "version": 3
   },
   "file_extension": ".py",
   "mimetype": "text/x-python",
   "name": "python",
   "nbconvert_exporter": "python",
   "pygments_lexer": "ipython3",
   "version": "3.10.1"
  }
 },
 "nbformat": 4,
 "nbformat_minor": 1
}
