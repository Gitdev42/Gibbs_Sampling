{
 "cells": [
  {
   "cell_type": "markdown",
   "metadata": {},
   "source": [
    "Import all nessesary libarys"
   ]
  },
  {
   "cell_type": "code",
   "execution_count": 9,
   "metadata": {},
   "outputs": [],
   "source": [
    "import numpy as np\n",
    "#import cupy as np\n",
    "import matplotlib.pyplot as plt\n",
    "import scipy.special\n",
    "from scipy import stats\n",
    "%matplotlib inline"
   ]
  },
  {
   "cell_type": "markdown",
   "metadata": {},
   "source": [
    "Definitions of all interchangeable variables of the script"
   ]
  },
  {
   "cell_type": "code",
   "execution_count": 10,
   "metadata": {
    "pycharm": {
     "name": "#%%\n"
    }
   },
   "outputs": [],
   "source": [
    "# Definitions\n",
    "\n",
    "# Matrix size\n",
    "\n",
    "matrix_width = 50\n",
    "matrix_height = 50\n",
    "\n",
    "# Grayscale value range\n",
    "\n",
    "gray_value_min = 0\n",
    "gray_value_max = 32\n",
    "\n",
    "\n",
    "# dampening factor\n",
    "\n",
    "beta = 1\n",
    "\n",
    "#itterations\n",
    "\n",
    "itteration = 300\n",
    "\n",
    "# definition Mask\n",
    "\n",
    "mask = np.array([\n",
    "        [-0.81,0,0,0,-0.81],\n",
    "        [0,0.91,0.4,0.91,0],\n",
    "        [0,0.4,0,0.4,0],\n",
    "        [0,0.91,0.4,0.91,0],\n",
    "        [-0.81,0,0,0,-0.81]\n",
    "       ])\n",
    "\n",
    "# definition Energyfunction\n",
    "\n",
    "def energy(func, vst, xs, xt):\n",
    "    #switch (func):\n",
    "        #case orgf:\n",
    "            #return np.sum(vst * (xs - xt))\n",
    "        #case l1:\n",
    "            return np.sum(vst * np.absolute(xs - xt))\n",
    "            #check formula in the book  \n",
    "        #case l2:\n",
    "            #return np.sum(vst * (xs - xt)**2 )"
   ]
  },
  {
   "cell_type": "markdown",
   "metadata": {},
   "source": [
    "applys the mask to the selected data point of the matrix"
   ]
  },
  {
   "cell_type": "code",
   "execution_count": 11,
   "metadata": {},
   "outputs": [
    {
     "ename": "SyntaxError",
     "evalue": "invalid syntax (2700875669.py, line 14)",
     "output_type": "error",
     "traceback": [
      "\u001b[0;36m  File \u001b[0;32m\"/tmp/ipykernel_3968/2700875669.py\"\u001b[0;36m, line \u001b[0;32m14\u001b[0m\n\u001b[0;31m    denominator =\u001b[0m\n\u001b[0m                  ^\u001b[0m\n\u001b[0;31mSyntaxError\u001b[0m\u001b[0;31m:\u001b[0m invalid syntax\n"
     ]
    }
   ],
   "source": [
    "def apply_mask(height,width, matrix, mask):\n",
    "    # create a copy of the matrix in the area of the mask\n",
    "    slice = matrix.take(range((height - (mask.shape[0]-1)//2),(height + (mask.shape[0]+1)//2)),mode='wrap', axis=0).take(range((width - (mask.shape[1]-1)//2),(width + (mask.shape[1]+1)//2)),mode='wrap',axis=1)\n",
    "    # calculate the probability of a data point to flip\n",
    "    \n",
    "    xk = np.arange(gray_value_max)\n",
    "    pk = []\n",
    "    denominator = \n",
    "    for i in xk do:\n",
    "        pk[i] = (scipy.special.binom(gray_value_max, i)* np.exp(-beta*energy(l1, mask, matrix[height][width], slice))) / denominator\n",
    "                 \n",
    "    #probability = 1 / (1 + np.exp(-beta *np.sum(mask * np.absolute(matrix[height][width] - slice))))\n",
    "    # würfeln ob der daten punkt eine 1 ist (?good englisch expression?)\n",
    "    # aktuell berechne ich die warscheinlichkeit obs eine 1 wird.. muss ich die wahrscheinlichkeit haben ob es flipt? wenn flip dann was tun bei mehr als 2 möglichkeiten\n",
    "        #matrix[height][width] = binom.rvs(1,p=probability) - does not work.. does not set -1 but 0s instead\n",
    "\n",
    "    np.random.choice()\n",
    "    \n",
    "    return matrix\n",
    "    "
   ]
  },
  {
   "cell_type": "markdown",
   "metadata": {},
   "source": [
    "generate Matrix of white noise"
   ]
  },
  {
   "cell_type": "code",
   "execution_count": 8,
   "metadata": {
    "pycharm": {
     "name": "#%%\n"
    }
   },
   "outputs": [
    {
     "name": "stdout",
     "output_type": "stream",
     "text": [
      "CPU times: user 32.1 ms, sys: 811 µs, total: 32.9 ms\n",
      "Wall time: 29.7 ms\n"
     ]
    },
    {
     "data": {
      "text/plain": [
       "array([[ 6, 12,  4, ...,  7,  1, 28],\n",
       "       [ 3, 11, 24, ..., 23, 31, 20],\n",
       "       [ 9, 23, 20, ..., 15,  1,  2],\n",
       "       ...,\n",
       "       [ 2, 25, 10, ..., 19, 30,  8],\n",
       "       [29, 11,  1, ..., 23, 14,  9],\n",
       "       [10, 28, 13, ..., 18, 28, 25]])"
      ]
     },
     "execution_count": 8,
     "metadata": {},
     "output_type": "execute_result"
    },
    {
     "data": {
      "image/png": "[encoded data removed]",
      "text/plain": [
       "<Figure size 432x288 with 1 Axes>"
      ]
     },
     "metadata": {
      "needs_background": "light"
     },
     "output_type": "display_data"
    }
   ],
   "source": [
    "%%time\n",
    "# generate Matrix of white noise\n",
    "matrix = np.random.randint(gray_value_min,gray_value_max,size=(matrix_height,matrix_width))\n",
    "# replaces 0 in the matrix with -1s (nessesary for a few masks)\n",
    "# matrix = np.where(matrix == 0, -1, matrix)\n",
    "# Print matrix as Image\n",
    "plt.imshow(matrix,cmap='gray',vmin=gray_value_min, vmax=gray_value_max-1)\n",
    "# Return (and print) matrix\n",
    "matrix"
   ]
  },
  {
   "cell_type": "markdown",
   "metadata": {},
   "source": [
    "apply mask to whole matrix"
   ]
  },
  {
   "cell_type": "code",
   "execution_count": 96,
   "metadata": {
    "pycharm": {
     "is_executing": true,
     "name": "#%%\n"
    }
   },
   "outputs": [
    {
     "name": "stdout",
     "output_type": "stream",
     "text": [
      "CPU times: user 1min 28s, sys: 68.7 ms, total: 1min 28s\n",
      "Wall time: 1min 29s\n"
     ]
    }
   ],
   "source": [
    "%%time\n",
    "# itterate thrue the whole matrix and appy mask\n",
    "counter = 0\n",
    "while counter < itteration:\n",
    "    counter += 1\n",
    "    for h in range(0, matrix.shape[0]):\n",
    "        for w in range(0, matrix.shape[1]):\n",
    "            matrix = apply_mask(h,w,matrix,mask) #faster with inplace ?\n",
    "        "
   ]
  },
  {
   "cell_type": "markdown",
   "metadata": {},
   "source": [
    "plot new matrix"
   ]
  },
  {
   "cell_type": "code",
   "execution_count": 9,
   "metadata": {
    "pycharm": {
     "is_executing": true
    }
   },
   "outputs": [
    {
     "data": {
      "text/plain": [
       "<matplotlib.image.AxesImage at 0x7f70e634adc0>"
      ]
     },
     "execution_count": 9,
     "metadata": {},
     "output_type": "execute_result"
    },
    {
     "data": {
      "image/png": "[encoded data removed]",
      "text/plain": [
       "<Figure size 432x288 with 1 Axes>"
      ]
     },
     "metadata": {
      "needs_background": "light"
     },
     "output_type": "display_data"
    }
   ],
   "source": [
    "plt.imshow(matrix,cmap='gray',vmin=gray_value_min, vmax=gray_value_max-1)"
   ]
  },
  {
   "cell_type": "markdown",
   "metadata": {},
   "source": [
    "safe new matrix to file"
   ]
  },
  {
   "cell_type": "code",
   "execution_count": null,
   "metadata": {
    "pycharm": {
     "is_executing": true
    }
   },
   "outputs": [],
   "source": [
    "np.save(\"matrix\", matrix)"
   ]
  },
  {
   "cell_type": "markdown",
   "metadata": {},
   "source": [
    "Fragen für Mittwoch:\n",
    "Formel (was liegt mit in der summe? O.o)\n",
    "        e^-2 abhängigkeit zu anz graustufen\n",
    "        mehrere pixel zeitgleich angucken (maske gerade anzahl (8x8 oder so mit 4 mittleren pixeln)\n",
    "        exponenten ersetzen.. wie genau soll ich das umsetzen? O.o\n",
    "        und wo genau brauch ich fakultäten"
   ]
  }
 ],
 "metadata": {
  "kernelspec": {
   "display_name": "Python 3 (ipykernel)",
   "language": "python",
   "name": "python3"
  },
  "language_info": {
   "codemirror_mode": {
    "name": "ipython",
    "version": 3
   },
   "file_extension": ".py",
   "mimetype": "text/x-python",
   "name": "python",
   "nbconvert_exporter": "python",
   "pygments_lexer": "ipython3",
   "version": "3.9.7"
  }
 },
 "nbformat": 4,
 "nbformat_minor": 1
}
